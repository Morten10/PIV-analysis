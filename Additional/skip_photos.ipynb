{
 "cells": [
  {
   "cell_type": "code",
   "execution_count": 1,
   "metadata": {},
   "outputs": [
    {
     "name": "stderr",
     "output_type": "stream",
     "text": [
      "c:\\Anaconda3\\Lib\\site-packages\\paramiko\\transport.py:219: CryptographyDeprecationWarning: Blowfish has been deprecated\n",
      "  \"class\": algorithms.Blowfish,\n"
     ]
    },
    {
     "name": "stdout",
     "output_type": "stream",
     "text": [
      "the folder C:/Users/Morten/OneDrive - mail.tau.ac.il/Thesis/Python Thesis/Analysis/Picture/alot skipped has been created\n",
      ".cihx file saved to C:/Users/Morten/OneDrive - mail.tau.ac.il/Thesis/Python Thesis/Analysis/Picture/alot skipped\\C001H001S0008.cihx\n"
     ]
    }
   ],
   "source": [
    "import My_functions as Mf\n",
    "Mf.skip_photos(Mf.select_directory(), 2)"
   ]
  }
 ],
 "metadata": {
  "kernelspec": {
   "display_name": "base",
   "language": "python",
   "name": "python3"
  },
  "language_info": {
   "codemirror_mode": {
    "name": "ipython",
    "version": 3
   },
   "file_extension": ".py",
   "mimetype": "text/x-python",
   "name": "python",
   "nbconvert_exporter": "python",
   "pygments_lexer": "ipython3",
   "version": "3.11.5"
  }
 },
 "nbformat": 4,
 "nbformat_minor": 2
}
