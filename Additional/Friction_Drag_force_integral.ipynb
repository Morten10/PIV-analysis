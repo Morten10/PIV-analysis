{
 "cells": [
  {
   "cell_type": "markdown",
   "metadata": {},
   "source": [
    "# Caculating drag force due to viscous forces\n",
    "\n",
    "page 517 \n",
    "\n",
    "<img title=\"simple\" alt=\"Alt text\" src=\"../Picture/IMG for markdown/drag.png\">\n",
    "\n",
    "For two dimentional only! $\\mathcal{D} [\\frac{N}{m}]$\n",
    "\n",
    "$ \\mathcal{D} = \\int_0^{2\\pi} \\tau_{wall} sin(\\theta) R\\,d\\theta = 2R\\int_0^{\\pi} \\tau_{wall} sin(\\theta) \\,d\\theta $\n",
    "\n",
    "the integral is in polar coordinates system. recall\n",
    "\n",
    "$v_r = \\frac{x \\cdot u + y \\cdot v}{\\sqrt{x^2+y^2}} \\ , v_{\\theta} =  \\frac{x \\cdot v - y \\cdot u}{\\sqrt{x^2+y^2}}  \\ \\ \\  \\tau_w = \\tau_{r\\theta}|_{r = a}  = \\mu (\\frac{v_r}{d\\theta} + \\frac{v_{\\theta}}{dr})|_{r = a}$\n",
    "\n",
    "\n",
    "$ \\mathcal{D} = 2\\mu R \\int_0^{\\pi} (\\frac{v_r}{d\\theta} + \\frac{v_{\\theta}}{dr})|_{r = a} \\cdot sin(\\theta) \\,d\\theta $\n",
    "\n",
    "\n",
    "Dont forget to tansfer to coordinate system origin o the spheres location."
   ]
  },
  {
   "cell_type": "code",
   "execution_count": 1,
   "metadata": {},
   "outputs": [],
   "source": [
    "import pickle\n",
    "import os\n",
    "import My_functions as Mf\n",
    "import numpy as np\n",
    "\n",
    "\n",
    "parent_folder = os.path.dirname(os.getcwd()) #on notebok only. in .py file its different\n",
    "save_folder = os.path.join(parent_folder, 'output', 'Multy')\n",
    "Mf.create_directory(save_folder)\n",
    "\n",
    "\n",
    "file_path = os.path.join(save_folder, 'locates_from_PIV.pkl')\n",
    "with open(file_path, 'rb') as file:\n",
    "    sphere_location, sphere_velocity, scaling_factor, range_cut = pickle.load(file)"
   ]
  },
  {
   "cell_type": "code",
   "execution_count": 2,
   "metadata": {},
   "outputs": [],
   "source": [
    "F_y = []\n",
    "a = 10/1000\n",
    "b = 2*a\n",
    "rho_1, rho_2 = 1090, 1105\n",
    "\n",
    "txt_files_path = Mf.return_file_end_with(save_folder, 'txt', full_path = True)\n",
    "txt_files_path_1 = []\n",
    "\n",
    "for el in txt_files_path:\n",
    "    if el[0] == 'm':\n",
    "        txt_files_path_1.append(el)\n",
    "txt_files_path = txt_files_path_1\n",
    "txt_files_path_1 = 0"
   ]
  },
  {
   "cell_type": "code",
   "execution_count": 4,
   "metadata": {},
   "outputs": [
    {
     "name": "stderr",
     "output_type": "stream",
     "text": [
      "C:\\Users\\Morten\\AppData\\Local\\Temp\\ipykernel_15712\\1985412473.py:6: RuntimeWarning: divide by zero encountered in divide\n",
      "  dv_r_dtheta = np.diff(v_r)/np.diff(theta)\n"
     ]
    }
   ],
   "source": [
    "for ind, el in enumerate(sphere_location):\n",
    "    x, y, u, v = Mf.txt_to_list(txt_files_path[ind])\n",
    "\n",
    "    r, theta, v_r, v_theta = Mf.cartesian_to_polar(x, y, u, v, sphere_location[ind])\n",
    "\n",
    "    dv_r_dtheta = np.diff(v_r)/np.diff(theta)\n",
    "    dv_theta_dr = np.diff(v_theta)/np.diff(r)\n",
    "    # Need to find the range to integrate the radius R changes because this is a grid. see Word document\n",
    "    \n",
    "    np.savetxt(os.path.join(save_folder, 'ala.txt'), r)\n",
    "    np.savetxt(os.path.join(save_folder, 'xexe.txt'), x)\n",
    "\n",
    "    sum1 = 1\n",
    "    sum2 = 2\n",
    "\n",
    "    F_y_el = 4*a*(rho_1*sum1 - rho_2*sum2)\n",
    "    F_y.append(F_y_el)"
   ]
  },
  {
   "cell_type": "code",
   "execution_count": null,
   "metadata": {},
   "outputs": [
    {
     "data": {
      "text/plain": [
       "[-44.800000000000004,\n",
       " -44.800000000000004,\n",
       " -44.800000000000004,\n",
       " -44.800000000000004,\n",
       " -44.800000000000004,\n",
       " -44.800000000000004,\n",
       " -44.800000000000004,\n",
       " -44.800000000000004,\n",
       " -44.800000000000004,\n",
       " -44.800000000000004,\n",
       " -44.800000000000004,\n",
       " -44.800000000000004,\n",
       " -44.800000000000004,\n",
       " -44.800000000000004,\n",
       " -44.800000000000004,\n",
       " -44.800000000000004,\n",
       " -44.800000000000004,\n",
       " -44.800000000000004,\n",
       " -44.800000000000004,\n",
       " -44.800000000000004,\n",
       " -44.800000000000004,\n",
       " -44.800000000000004,\n",
       " -44.800000000000004,\n",
       " -44.800000000000004,\n",
       " -44.800000000000004,\n",
       " -44.800000000000004,\n",
       " -44.800000000000004,\n",
       " -44.800000000000004,\n",
       " -44.800000000000004,\n",
       " -44.800000000000004,\n",
       " -44.800000000000004,\n",
       " -44.800000000000004,\n",
       " -44.800000000000004,\n",
       " -44.800000000000004]"
      ]
     },
     "execution_count": 13,
     "metadata": {},
     "output_type": "execute_result"
    }
   ],
   "source": [
    "file_path = os.path.join(save_folder, 'Force_from_Friction_drag_volume.pkl')\n",
    "with open(file_path, 'wb') as file:\n",
    "    pickle.dump(F_y, file)\n",
    "\n",
    "F_y"
   ]
  }
 ],
 "metadata": {
  "kernelspec": {
   "display_name": "base",
   "language": "python",
   "name": "python3"
  },
  "language_info": {
   "codemirror_mode": {
    "name": "ipython",
    "version": 3
   },
   "file_extension": ".py",
   "mimetype": "text/x-python",
   "name": "python",
   "nbconvert_exporter": "python",
   "pygments_lexer": "ipython3",
   "version": "3.11.5"
  },
  "orig_nbformat": 4
 },
 "nbformat": 4,
 "nbformat_minor": 2
}
