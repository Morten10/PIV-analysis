{
 "cells": [
  {
   "cell_type": "markdown",
   "metadata": {},
   "source": [
    "Discrete 2D analysis\n",
    "\n",
    "$ a\\ =$ Spheres diameter\n",
    "\n",
    "assuming flow is steady\n",
    "\n",
    "$ \\mathcal{D} = \\int_{cs} V\\rho V \\cdot \\hat n dA $\n",
    "\n",
    "$ \\mathcal{D} =\\ F_y \\ = \\int_{-2a}^{2a}\\int_{-2a}^{2a} {v}|_{x, y=-b} \\ \\rho_2 \\ {v}|_{x, y=-b} \\ dxdz - \\int_{-2a}^{2a}\\int_{-2a}^{2a} {v}|_{x, y=b} \\ \\rho_1 \\ {v}|_{x, y=b} \\ dxdz = 4 a (\\rho_2 \\int_{-2a}^{2a} {v^2}|_{x, y=-b} \\ dx - \\rho_1 \\int_{-2a}^{2a} {v^2}|_{x, y=b} \\ dx) \\ [N]$\n",
    "\n",
    "\n",
    "\n"
   ]
  },
  {
   "cell_type": "code",
   "execution_count": 1,
   "metadata": {},
   "outputs": [],
   "source": [
    "import pickle\n",
    "import os\n",
    "import My_functions as Mf\n",
    "from scipy.integrate import trapz\n",
    "import numpy as np\n",
    "\n",
    "\n",
    "parent_folder = os.path.dirname(os.getcwd()) #on notebok only. in .py file its different\n",
    "save_folder = os.path.join(parent_folder, 'output', 'Multy')\n",
    "Mf.create_directory(save_folder)\n",
    "\n",
    "\n",
    "file_path = os.path.join(save_folder, 'locates_from_PIV.pkl')\n",
    "with open(file_path, 'rb') as file:\n",
    "    sphere_location, sphere_velocity, scaling_factor, range_cut = pickle.load(file)"
   ]
  },
  {
   "cell_type": "code",
   "execution_count": 2,
   "metadata": {},
   "outputs": [
    {
     "data": {
      "text/plain": [
       "0"
      ]
     },
     "execution_count": 2,
     "metadata": {},
     "output_type": "execute_result"
    }
   ],
   "source": [
    "F_y = []\n",
    "a = 10/1000\n",
    "b = 2*a\n",
    "rho_1, rho_2 = 1090, 1105\n",
    "\n",
    "txt_files_path = Mf.return_file_end_with(save_folder, 'txt')\n",
    "txt_files_path_1 = []\n",
    "\n",
    "for el in txt_files_path:\n",
    "    if el[0] == 'm':\n",
    "        txt_files_path_1.append(el)\n",
    "txt_files_path = txt_files_path_1\n",
    "txt_files_path_1 = 0\n",
    "txt_files_path_1"
   ]
  },
  {
   "cell_type": "markdown",
   "metadata": {},
   "source": [
    "we need to find the relevant place in Y for sum1 and sum2, and to cut the list for -2a<x<2a"
   ]
  },
  {
   "cell_type": "code",
   "execution_count": 3,
   "metadata": {},
   "outputs": [],
   "source": [
    "for ind, el in enumerate(sphere_location):\n",
    "    list_of_xyuv = Mf.txt_to_list(os.path.join(save_folder, txt_files_path[ind]))\n",
    "    \n",
    "    x, y, u, v = list_of_xyuv\n",
    "    start_y_pos, end_y_pos = Mf.find_closest_values_range_in_array(y, sphere_location[ind][1] + b)\n",
    "    start_y_neg, end_y_neg = Mf.find_closest_values_range_in_array(y, sphere_location[ind][1] - b)\n",
    "    start_x, end_x = Mf.find_closest_values_in_array(x, sphere_location[ind][0] - 2*a), Mf.find_closest_values_in_array(x, sphere_location[ind][0] + 2*a)\n",
    "    \n",
    "    v_sum1 = v[start_y_pos: end_y_pos][start_x: end_x]\n",
    "    v_sum2 = v[start_y_neg: end_y_neg][start_x: end_x]\n",
    "\n",
    "    x_sum = x[start_x: end_x]\n",
    "\n",
    "    v_squared_1 = (np.array(v_sum1))**2\n",
    "    v_squared_2 = (np.array(v_sum2))**2\n",
    "    \n",
    "    sum1 = trapz(v_squared_1, x_sum)\n",
    "    sum2 = trapz(v_squared_2, x_sum)\n",
    "\n",
    "    F_y_el = 4*a*(rho_1*sum1 - rho_2*sum2)\n",
    "    F_y.append(F_y_el)"
   ]
  },
  {
   "cell_type": "code",
   "execution_count": 4,
   "metadata": {},
   "outputs": [
    {
     "data": {
      "text/plain": [
       "[0.00011137907658582929,\n",
       " 0.00010187279983132649,\n",
       " 8.116338711535508e-05,\n",
       " 3.83272113483029e-05,\n",
       " -0.00026778007386055235,\n",
       " -0.00036795967405918396,\n",
       " -0.0003291166347738342,\n",
       " -0.00026456768426709286,\n",
       " -0.0001219190382496791,\n",
       " 1.3863428761904515e-05,\n",
       " -6.381696278060105e-05,\n",
       " 1.4969407705356006e-05,\n",
       " 5.561288632805558e-05,\n",
       " 1.32560825202072e-05,\n",
       " 2.2552492743130607e-05,\n",
       " -1.886553976603988e-05,\n",
       " 0.0002390356854327885,\n",
       " -4.344457903316888e-05,\n",
       " -2.636303963036678e-06,\n",
       " -1.8081519838453013e-05,\n",
       " 1.6464575602984005e-05,\n",
       " -0.00019711281861315095,\n",
       " 0.00017098470653484097,\n",
       " 0.00035960322740999503,\n",
       " -2.1198931657734595e-05,\n",
       " -1.0483142501646692e-05,\n",
       " -2.4482559546374692e-05,\n",
       " -0.00024115359827653026,\n",
       " -0.00013704769270800747,\n",
       " -0.0001153384545222571,\n",
       " -0.0001394697383704412,\n",
       " -0.00014335128319396652,\n",
       " -8.902607771535199e-05,\n",
       " -0.0001692727193896336]"
      ]
     },
     "execution_count": 4,
     "metadata": {},
     "output_type": "execute_result"
    }
   ],
   "source": [
    "file_path = os.path.join(save_folder, 'Force_from_control_volume.pkl')\n",
    "with open(file_path, 'wb') as file:\n",
    "    pickle.dump(F_y, file)\n",
    "\n",
    "F_y"
   ]
  }
 ],
 "metadata": {
  "kernelspec": {
   "display_name": "base",
   "language": "python",
   "name": "python3"
  },
  "language_info": {
   "codemirror_mode": {
    "name": "ipython",
    "version": 3
   },
   "file_extension": ".py",
   "mimetype": "text/x-python",
   "name": "python",
   "nbconvert_exporter": "python",
   "pygments_lexer": "ipython3",
   "version": "3.11.4"
  },
  "orig_nbformat": 4
 },
 "nbformat": 4,
 "nbformat_minor": 2
}
